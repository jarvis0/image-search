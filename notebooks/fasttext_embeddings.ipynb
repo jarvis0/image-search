{
 "cells": [
  {
   "cell_type": "code",
   "execution_count": 19,
   "metadata": {},
   "outputs": [],
   "source": [
    "import numpy as np\n",
    "import matplotlib.pyplot as plt"
   ]
  },
  {
   "cell_type": "code",
   "execution_count": 3,
   "metadata": {},
   "outputs": [],
   "source": [
    "import io\n",
    "\n",
    "def load_vectors(fname):\n",
    "    fin = io.open(fname, 'r', encoding='utf-8', newline='\\n', errors='ignore')\n",
    "    n, d = map(int, fin.readline().split())\n",
    "    data = {}\n",
    "    for i, line in enumerate(fin):\n",
    "        tokens = line.rstrip().split(' ')\n",
    "        data[tokens[0]] = map(float, tokens[1:])\n",
    "        if i > 100000:\n",
    "            break\n",
    "    return data"
   ]
  },
  {
   "cell_type": "code",
   "execution_count": 29,
   "metadata": {},
   "outputs": [],
   "source": [
    "vectors = load_vectors('../../wiki-news-300d-1M.vec')"
   ]
  },
  {
   "cell_type": "code",
   "execution_count": 30,
   "metadata": {},
   "outputs": [],
   "source": [
    "words = {w: np.array(list(vectors[w])) for w in vectors}"
   ]
  },
  {
   "cell_type": "code",
   "execution_count": 32,
   "metadata": {},
   "outputs": [
    {
     "data": {
      "image/png": "[encoded data removed]",
      "text/plain": [
       "<Figure size 432x288 with 1 Axes>"
      ]
     },
     "metadata": {
      "needs_background": "light"
     },
     "output_type": "display_data"
    }
   ],
   "source": [
    "for i, w in enumerate(words):\n",
    "    # print(words[w][0], words[w][1])\n",
    "    plt.scatter(words[w][0], words[w][1])\n",
    "    if i > 100:\n",
    "        break"
   ]
  },
  {
   "cell_type": "code",
   "execution_count": 31,
   "metadata": {},
   "outputs": [],
   "source": [
    "import fasttext"
   ]
  },
  {
   "cell_type": "code",
   "execution_count": 33,
   "metadata": {},
   "outputs": [
    {
     "name": "stderr",
     "output_type": "stream",
     "text": [
      "Warning : `load_model` does not return WordVectorModel or SupervisedModel any more, but a `FastText` object which is very similar.\n",
      "Warning : `load_model` does not return WordVectorModel or SupervisedModel any more, but a `FastText` object which is very similar.\n",
      "Warning : `load_model` does not return WordVectorModel or SupervisedModel any more, but a `FastText` object which is very similar.\n"
     ]
    }
   ],
   "source": [
    "model1 = fasttext.load_model('../data/bin/fasttext_200_50.bin')\n",
    "model2 = fasttext.load_model('../data/bin/fasttext_100.bin')\n",
    "model3 = fasttext.load_model('../data/bin/fasttext_200.bin')"
   ]
  },
  {
   "cell_type": "code",
   "execution_count": 40,
   "metadata": {},
   "outputs": [],
   "source": [
    "# song, music, ibiza, people, school, laptop, computer, sand, sky, player\n",
    "word = 'sunset'"
   ]
  },
  {
   "cell_type": "code",
   "execution_count": 41,
   "metadata": {},
   "outputs": [
    {
     "data": {
      "text/plain": [
       "[(0.8058708906173706, 'sunrise'),\n",
       " (0.6712239980697632, 'dusk'),\n",
       " (0.5894411206245422, 'twilight'),\n",
       " (0.5614661574363708, 'misty'),\n",
       " (0.5610998868942261, 'foggy'),\n",
       " (0.5566723942756653, 'lake'),\n",
       " (0.5564395189285278, 'sky'),\n",
       " (0.5441725254058838, 'mountains'),\n",
       " (0.5341526865959167, 'sunsets'),\n",
       " (0.5319316387176514, 'cloudy')]"
      ]
     },
     "execution_count": 41,
     "metadata": {},
     "output_type": "execute_result"
    }
   ],
   "source": [
    "model1.get_nearest_neighbors(word)"
   ]
  },
  {
   "cell_type": "code",
   "execution_count": 42,
   "metadata": {},
   "outputs": [
    {
     "data": {
      "text/plain": [
       "[(0.8635748028755188, 'sunrise'),\n",
       " (0.7530286908149719, 'sunrises'),\n",
       " (0.7514839172363281, 'dusk'),\n",
       " (0.7074742317199707, 'seacoast'),\n",
       " (0.6869329810142517, 'sundown'),\n",
       " (0.6849852204322815, 'sunsets'),\n",
       " (0.6809548139572144, 'twilight'),\n",
       " (0.6700689196586609, 'silhouetted'),\n",
       " (0.66090327501297, 'cloudy'),\n",
       " (0.6551900506019592, 'c1970')]"
      ]
     },
     "execution_count": 42,
     "metadata": {},
     "output_type": "execute_result"
    }
   ],
   "source": [
    "model2.get_nearest_neighbors(word)"
   ]
  },
  {
   "cell_type": "code",
   "execution_count": 43,
   "metadata": {},
   "outputs": [
    {
     "data": {
      "text/plain": [
       "[(0.8108305931091309, 'sunrise'),\n",
       " (0.7143994569778442, 'sunrises'),\n",
       " (0.705374538898468, 'sunsets'),\n",
       " (0.70113205909729, 'dusk'),\n",
       " (0.6429147720336914, 'twilight'),\n",
       " (0.5632219910621643, '60fps'),\n",
       " (0.5572551488876343, 'seacoast'),\n",
       " (0.5511749386787415, 'moonlight'),\n",
       " (0.5426387190818787, 'misty'),\n",
       " (0.5339328050613403, 'sky')]"
      ]
     },
     "execution_count": 43,
     "metadata": {},
     "output_type": "execute_result"
    }
   ],
   "source": [
    "model3.get_nearest_neighbors(word)"
   ]
  },
  {
   "cell_type": "code",
   "execution_count": 37,
   "metadata": {},
   "outputs": [
    {
     "name": "stdout",
     "output_type": "stream",
     "text": [
      "3.51 ms ± 11.4 µs per loop (mean ± std. dev. of 7 runs, 100 loops each)\n"
     ]
    }
   ],
   "source": [
    "%%timeit\n",
    "model1.get_nearest_neighbors(word)"
   ]
  },
  {
   "cell_type": "code",
   "execution_count": 38,
   "metadata": {},
   "outputs": [
    {
     "name": "stdout",
     "output_type": "stream",
     "text": [
      "1.54 ms ± 8.23 µs per loop (mean ± std. dev. of 7 runs, 1000 loops each)\n"
     ]
    }
   ],
   "source": [
    "%%timeit\n",
    "model2.get_nearest_neighbors(word)"
   ]
  },
  {
   "cell_type": "code",
   "execution_count": 39,
   "metadata": {},
   "outputs": [
    {
     "name": "stdout",
     "output_type": "stream",
     "text": [
      "3.47 ms ± 5.54 µs per loop (mean ± std. dev. of 7 runs, 100 loops each)\n"
     ]
    }
   ],
   "source": [
    "%%timeit\n",
    "model3.get_nearest_neighbors(word)"
   ]
  },
  {
   "cell_type": "code",
   "execution_count": null,
   "metadata": {},
   "outputs": [],
   "source": []
  }
 ],
 "metadata": {
  "interpreter": {
   "hash": "daa06ee645250b8a2dc707d71e9800f0b1cc0a90be827c1c2df03a597f042bff"
  },
  "kernelspec": {
   "display_name": "Python 3.8.12 64-bit ('typing-assistant': conda)",
   "language": "python",
   "name": "python3"
  },
  "language_info": {
   "codemirror_mode": {
    "name": "ipython",
    "version": 3
   },
   "file_extension": ".py",
   "mimetype": "text/x-python",
   "name": "python",
   "nbconvert_exporter": "python",
   "pygments_lexer": "ipython3",
   "version": "3.8.11"
  },
  "orig_nbformat": 4
 },
 "nbformat": 4,
 "nbformat_minor": 2
}
