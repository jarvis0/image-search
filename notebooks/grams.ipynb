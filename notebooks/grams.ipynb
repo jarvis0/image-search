{
 "cells": [
  {
   "cell_type": "code",
   "execution_count": 56,
   "metadata": {},
   "outputs": [],
   "source": [
    "import re\n",
    "from itertools import chain\n",
    "import pandas as pd\n",
    "from nltk import ConditionalFreqDist, bigrams, trigrams\n",
    "from sklearn.feature_extraction.text import TfidfVectorizer\n",
    "from typing_assistant.indexing import Collection, InvertedIndex, Lexicon\n",
    "from typing_assistant.config import config\n",
    "from typing_assistant.context import Context"
   ]
  },
  {
   "cell_type": "code",
   "execution_count": 13,
   "metadata": {},
   "outputs": [
    {
     "data": {
      "text/plain": [
       "10000"
      ]
     },
     "execution_count": 13,
     "metadata": {},
     "output_type": "execute_result"
    }
   ],
   "source": [
    "df = pd.read_csv('../data/captions_0.1.tsv', sep='\\t', index_col='id')[: 10000]\n",
    "corpus = df['caption'].to_dict()\n",
    "len(corpus)"
   ]
  },
  {
   "cell_type": "code",
   "execution_count": 6,
   "metadata": {},
   "outputs": [],
   "source": [
    "context = Context(config.ROOT)\n",
    "collection = Collection()\n",
    "collection.build_collection(corpus)\n",
    "inv_index = InvertedIndex(collection)\n",
    "inv_index.index_collection()\n",
    "lexicon = Lexicon(context)\n",
    "lexicon.build_lexicon(collection, inv_index)"
   ]
  },
  {
   "cell_type": "code",
   "execution_count": 58,
   "metadata": {},
   "outputs": [
    {
     "data": {
      "text/plain": [
       "[('the', 626.1143018026254),\n",
       " ('a', 532.32093668446),\n",
       " ('of', 395.3645231015813),\n",
       " ('on', 326.1175632198149),\n",
       " ('in', 312.0174692113382),\n",
       " ('and', 277.39850711831275),\n",
       " ('person', 240.17365452254754),\n",
       " ('with', 236.28727584463584),\n",
       " ('at', 195.00368963448693),\n",
       " ('during', 192.53522454662016)]"
      ]
     },
     "execution_count": 58,
     "metadata": {},
     "output_type": "execute_result"
    }
   ],
   "source": [
    "vectorizer = TfidfVectorizer(token_pattern=r'[a-z]+')\n",
    "tfidf_matrix = vectorizer.fit_transform([sentence for sentence in corpus.values()])\n",
    "features = vectorizer.get_feature_names_out()\n",
    "sums = tfidf_matrix.sum(axis=0)\n",
    "sorted({term: sums[0, col] for col, term in enumerate(features)}.items(), key=lambda x: x[1], reverse=True)[: 10]"
   ]
  },
  {
   "cell_type": "code",
   "execution_count": 78,
   "metadata": {},
   "outputs": [],
   "source": [
    "bgs = [*chain(*([*bigrams(document.tokens)] for document in collection.documents))]"
   ]
  },
  {
   "cell_type": "code",
   "execution_count": 82,
   "metadata": {},
   "outputs": [
    {
     "name": "stdout",
     "output_type": "stream",
     "text": [
      "<FreqDist with 41 samples and 79 outcomes>\n"
     ]
    }
   ],
   "source": [
    "a = ConditionalFreqDist(list(bgs))\n",
    "print(a['beach'])"
   ]
  },
  {
   "cell_type": "code",
   "execution_count": null,
   "metadata": {},
   "outputs": [],
   "source": []
  }
 ],
 "metadata": {
  "interpreter": {
   "hash": "daa06ee645250b8a2dc707d71e9800f0b1cc0a90be827c1c2df03a597f042bff"
  },
  "kernelspec": {
   "display_name": "Python 3.8.11 64-bit ('typing-assistant': conda)",
   "language": "python",
   "name": "python3"
  },
  "language_info": {
   "codemirror_mode": {
    "name": "ipython",
    "version": 3
   },
   "file_extension": ".py",
   "mimetype": "text/x-python",
   "name": "python",
   "nbconvert_exporter": "python",
   "pygments_lexer": "ipython3",
   "version": "3.8.11"
  },
  "orig_nbformat": 4
 },
 "nbformat": 4,
 "nbformat_minor": 2
}
