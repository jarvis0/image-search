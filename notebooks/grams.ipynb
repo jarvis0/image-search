{
 "cells": [
  {
   "cell_type": "code",
   "execution_count": 5,
   "metadata": {},
   "outputs": [],
   "source": [
    "import pandas as pd\n",
    "from nltk import ConditionalFreqDist, bigrams, trigrams\n",
    "from sklearn.feature_extraction.text import TfidfVectorizer\n",
    "from typing_assistant.indexing import Collection, InvertedIndex, Lexicon"
   ]
  },
  {
   "cell_type": "code",
   "execution_count": 6,
   "metadata": {},
   "outputs": [
    {
     "data": {
      "text/plain": [
       "10000"
      ]
     },
     "execution_count": 6,
     "metadata": {},
     "output_type": "execute_result"
    }
   ],
   "source": [
    "df = pd.read_csv('../data/captions_0.1.tsv', sep='\\t', index_col='id')[: 10000]\n",
    "corpus = df['caption'].to_dict()\n",
    "len(corpus)"
   ]
  },
  {
   "cell_type": "code",
   "execution_count": 8,
   "metadata": {},
   "outputs": [],
   "source": [
    "collection = Collection()\n",
    "collection.build_collection(corpus)\n",
    "inv_index = InvertedIndex(collection)\n",
    "inv_index.index_collection()\n",
    "lexicon = Lexicon()\n",
    "lexicon.build_lexicon(collection, inv_index)"
   ]
  },
  {
   "cell_type": "code",
   "execution_count": 11,
   "metadata": {},
   "outputs": [
    {
     "data": {
      "text/plain": [
       "[('the', 624.2778225105985),\n",
       " ('a', 531.1542926055173),\n",
       " ('of', 394.1603911971106),\n",
       " ('on', 325.6256597061032),\n",
       " ('in', 311.4396563250166),\n",
       " ('and', 277.02504262038576),\n",
       " ('person', 239.60072866678902),\n",
       " ('with', 236.04490675312425),\n",
       " ('at', 194.4727102813845),\n",
       " ('during', 192.05227336830671)]"
      ]
     },
     "execution_count": 11,
     "metadata": {},
     "output_type": "execute_result"
    }
   ],
   "source": [
    "vectorizer = TfidfVectorizer(token_pattern=r'\\w+')\n",
    "tfidf_matrix = vectorizer.fit_transform([sentence for sentence in corpus.values()])\n",
    "features = vectorizer.get_feature_names()\n",
    "sums = tfidf_matrix.sum(axis=0)\n",
    "sorted({term: sums[0, col] for col, term in enumerate(features)}.items(), key=lambda x: x[1], reverse=True)[: 10]"
   ]
  },
  {
   "cell_type": "code",
   "execution_count": null,
   "metadata": {},
   "outputs": [],
   "source": [
    "words =  (word for words_sentence in words_sentences for word in words_sentence)\n",
    "bgs = tuple(bigrams(words))"
   ]
  }
 ],
 "metadata": {
  "interpreter": {
   "hash": "daa06ee645250b8a2dc707d71e9800f0b1cc0a90be827c1c2df03a597f042bff"
  },
  "kernelspec": {
   "display_name": "Python 3.8.11 64-bit ('typing-assistant': conda)",
   "language": "python",
   "name": "python3"
  },
  "language_info": {
   "codemirror_mode": {
    "name": "ipython",
    "version": 3
   },
   "file_extension": ".py",
   "mimetype": "text/x-python",
   "name": "python",
   "nbconvert_exporter": "python",
   "pygments_lexer": "ipython3",
   "version": "3.8.11"
  },
  "orig_nbformat": 4
 },
 "nbformat": 4,
 "nbformat_minor": 2
}
