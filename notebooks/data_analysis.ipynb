{
 "cells": [
  {
   "cell_type": "code",
   "execution_count": 51,
   "metadata": {},
   "outputs": [],
   "source": [
    "import re\n",
    "\n",
    "import numpy as np\n",
    "\n",
    "import pandas as pd"
   ]
  },
  {
   "cell_type": "code",
   "execution_count": 2,
   "metadata": {},
   "outputs": [],
   "source": [
    "df = pd.read_csv('../data/raw.tsv', sep='\\t', names=['caption', 'url', 'labels', 'MIDs', 'confidence_score'])\n",
    "df = df.reset_index(drop=True)[['caption', 'url']]\n",
    "df.head()"
   ]
  },
  {
   "cell_type": "code",
   "execution_count": 31,
   "metadata": {},
   "outputs": [
    {
     "name": "stdout",
     "output_type": "stream",
     "text": [
      "Number of captions: 2007528\n",
      "Number of invalid captions: 0\n",
      "Number of invalid urls: 0\n"
     ]
    },
    {
     "data": {
      "text/plain": [
       "-10"
      ]
     },
     "execution_count": 31,
     "metadata": {},
     "output_type": "execute_result"
    }
   ],
   "source": [
    "print(f'Number of captions: {len(df)}')\n",
    "print(f'Number of invalid captions: {sum(df[\"caption\"].isnull())}')\n",
    "print(f'Number of invalid urls: {sum(df[\"url\"].isnull())}')"
   ]
  },
  {
   "cell_type": "code",
   "execution_count": 42,
   "metadata": {},
   "outputs": [
    {
     "name": "stdout",
     "output_type": "stream",
     "text": [
      "Number of non-lowercase captions: 10\n"
     ]
    }
   ],
   "source": [
    "print(f'Number of non-lowercase captions: {len(df) - sum(df[\"caption\"].str.islower())}')"
   ]
  },
  {
   "cell_type": "code",
   "execution_count": 50,
   "metadata": {},
   "outputs": [
    {
     "name": "stdout",
     "output_type": "stream",
     "text": [
      "croissant and coffee , Â french breakfast .\n",
      "croissant and coffee french breakfast\n",
      "Is lowercase? True\n",
      "\n",
      "... Â £ 199 for the pro\n",
      "for the pro\n",
      "Is lowercase? True\n",
      "\n",
      "bare shelves were all customers could find of water in Â thursday until a delivery truck arrived shortly after customers clamored for the cases of water as soon as they were put out .\n",
      "bare shelves were all customers could find of water in thursday until a delivery truck arrived shortly after customers clamored for the cases of water as soon as they were put out\n",
      "Is lowercase? True\n",
      "\n",
      "20 of the best men 's watches under Â £ men\n",
      "of the best men s watches under men\n",
      "Is lowercase? True\n",
      "\n",
      "event has so far cost Â £ 9 million and it was launched after troops left the country\n",
      "event has so far cost million and it was launched after troops left the country\n",
      "Is lowercase? True\n",
      "\n",
      "soccer player : see immediate return on Â £ 54m investment in player\n",
      "soccer player see immediate return on m investment in player\n",
      "Is lowercase? True\n",
      "\n",
      "is among the large paintings Â .\n",
      "is among the large paintings\n",
      "Is lowercase? True\n",
      "\n",
      "4k hd wallpaper : Â picture with frozen & snowy landscape\n",
      "k hd wallpaper picture with frozen snowy landscape\n",
      "Is lowercase? True\n",
      "\n",
      "watch with a stainless steel casing , rhinestones and shimmering leather strap in a silver metallic tone , Ø approx . mm\n",
      "watch with a stainless steel casing rhinestones and shimmering leather strap in a silver metallic tone approx mm\n",
      "Is lowercase? True\n",
      "\n",
      "minimal logo that incorporates a paw into the name by o Ñ ate\n",
      "minimal logo that incorporates a paw into the name by o ate\n",
      "Is lowercase? True\n",
      "\n"
     ]
    }
   ],
   "source": [
    "idx = ~df['caption'].str.islower()\n",
    "idx = idx[idx].index\n",
    "idx\n",
    "non_lowercase_caption = df.iloc[idx]['caption'].tolist()\n",
    "for caption in non_lowercase_caption:\n",
    "    print(caption)\n",
    "    cleaned_caption = ' '.join(re.findall(r'[a-z]+', caption))\n",
    "    print(cleaned_caption)\n",
    "    print(f'Is lowercase? {cleaned_caption.islower()}')\n",
    "    print()"
   ]
  },
  {
   "cell_type": "code",
   "execution_count": 20,
   "metadata": {},
   "outputs": [
    {
     "name": "stdout",
     "output_type": "stream",
     "text": [
      "Number of total words: 19103790\n",
      "Number of unique words: 35983\n"
     ]
    }
   ],
   "source": [
    "captions = df['caption'].tolist()\n",
    "word_sentences = [re.findall(r'[a-z]+', caption) for caption in captions]\n",
    "words = [word for sentence in word_sentences for word in sentence]\n",
    "unique_words = list(set(words))\n",
    "print(f'Number of total words: {len(words)}')\n",
    "print(f'Number of unique words: {len(unique_words)}')"
   ]
  },
  {
   "cell_type": "code",
   "execution_count": 55,
   "metadata": {},
   "outputs": [
    {
     "name": "stdout",
     "output_type": "stream",
     "text": [
      "Average words per caption: 9.516076488098797\n",
      "Standard deviation of words per caption: 4.2815944343373795\n",
      "Minimum number of words per caption: 2\n",
      "Minimum number of words per caption: 5.0\n",
      "Minimum number of words per caption: 6.0\n",
      "Minimum number of words per caption: 8.0\n",
      "Minimum number of words per caption: 11.0\n",
      "Minimum number of words per caption: 15.0\n",
      "Maximum number of words per caption: 50\n"
     ]
    }
   ],
   "source": [
    "words_count = [len(sentence) for sentence in word_sentences]\n",
    "#avg_words_sentence = sum(words_count) / len(words_count)\n",
    "print(f'Average words per caption: {np.mean(words_count)}')\n",
    "print(f'Standard deviation of words per caption: {np.std(words_count, ddof=1)}')\n",
    "print(f'Minimum number of words per caption: {np.min(words_count)}')\n",
    "print(f'10th percentile of number of words per caption: {np.percentile(words_count, 10)}')\n",
    "print(f'25th percentile of words per caption: {np.percentile(words_count, 25)}')\n",
    "print(f'Median number of words per caption: {np.median(words_count)}')\n",
    "print(f'75th percentile of words per caption: {np.percentile(words_count, 75)}')\n",
    "print(f'90th percentile of  words per caption: {np.percentile(words_count, 90)}')\n",
    "print(f'Maximum number of words per caption: {np.max(words_count)}')"
   ]
  },
  {
   "cell_type": "code",
   "execution_count": null,
   "metadata": {},
   "outputs": [],
   "source": []
  }
 ],
 "metadata": {
  "interpreter": {
   "hash": "daa06ee645250b8a2dc707d71e9800f0b1cc0a90be827c1c2df03a597f042bff"
  },
  "kernelspec": {
   "display_name": "Python 3.8.12 64-bit ('typing-assistant': conda)",
   "language": "python",
   "name": "python3"
  },
  "language_info": {
   "codemirror_mode": {
    "name": "ipython",
    "version": 3
   },
   "file_extension": ".py",
   "mimetype": "text/x-python",
   "name": "python",
   "nbconvert_exporter": "python",
   "pygments_lexer": "ipython3",
   "version": "3.8.11"
  },
  "orig_nbformat": 4
 },
 "nbformat": 4,
 "nbformat_minor": 2
}
