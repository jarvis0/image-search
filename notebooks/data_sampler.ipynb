{
 "cells": [
  {
   "cell_type": "code",
   "execution_count": 1,
   "metadata": {},
   "outputs": [],
   "source": [
    "import pandas as pd"
   ]
  },
  {
   "cell_type": "code",
   "execution_count": 9,
   "metadata": {},
   "outputs": [],
   "source": [
    "df = pd.read_csv('../../../Downloads/Image_Labels_Subset_Train_GCC-Labels-training.tsv', sep='\\t', names=['caption', 'url', 'labels', 'MIDs', 'confidence_score'])"
   ]
  },
  {
   "cell_type": "code",
   "execution_count": 10,
   "metadata": {},
   "outputs": [
    {
     "data": {
      "text/html": [
       "<div>\n",
       "<style scoped>\n",
       "    .dataframe tbody tr th:only-of-type {\n",
       "        vertical-align: middle;\n",
       "    }\n",
       "\n",
       "    .dataframe tbody tr th {\n",
       "        vertical-align: top;\n",
       "    }\n",
       "\n",
       "    .dataframe thead th {\n",
       "        text-align: right;\n",
       "    }\n",
       "</style>\n",
       "<table border=\"1\" class=\"dataframe\">\n",
       "  <thead>\n",
       "    <tr style=\"text-align: right;\">\n",
       "      <th></th>\n",
       "      <th>caption</th>\n",
       "      <th>url</th>\n",
       "      <th>labels</th>\n",
       "      <th>MIDs</th>\n",
       "      <th>confidence_score</th>\n",
       "    </tr>\n",
       "  </thead>\n",
       "  <tbody>\n",
       "    <tr>\n",
       "      <th>count</th>\n",
       "      <td>2007528</td>\n",
       "      <td>2007528</td>\n",
       "      <td>2007090</td>\n",
       "      <td>2007090</td>\n",
       "      <td>2007090</td>\n",
       "    </tr>\n",
       "    <tr>\n",
       "      <th>unique</th>\n",
       "      <td>1428791</td>\n",
       "      <td>2007528</td>\n",
       "      <td>1947984</td>\n",
       "      <td>1948050</td>\n",
       "      <td>2003297</td>\n",
       "    </tr>\n",
       "    <tr>\n",
       "      <th>top</th>\n",
       "      <td>image may contain : person , on stage and play...</td>\n",
       "      <td>https://thumb1.shutterstock.com/display_pic_wi...</td>\n",
       "      <td>text,font,line</td>\n",
       "      <td>/m/07s6nbt,/m/03gq5hm,/m/03scnj</td>\n",
       "      <td>0.9736676812171936,0.9484156370162964,0.787131...</td>\n",
       "    </tr>\n",
       "    <tr>\n",
       "      <th>freq</th>\n",
       "      <td>4741</td>\n",
       "      <td>1</td>\n",
       "      <td>994</td>\n",
       "      <td>994</td>\n",
       "      <td>271</td>\n",
       "    </tr>\n",
       "  </tbody>\n",
       "</table>\n",
       "</div>"
      ],
      "text/plain": [
       "                                                  caption  \\\n",
       "count                                             2007528   \n",
       "unique                                            1428791   \n",
       "top     image may contain : person , on stage and play...   \n",
       "freq                                                 4741   \n",
       "\n",
       "                                                      url          labels  \\\n",
       "count                                             2007528         2007090   \n",
       "unique                                            2007528         1947984   \n",
       "top     https://thumb1.shutterstock.com/display_pic_wi...  text,font,line   \n",
       "freq                                                    1             994   \n",
       "\n",
       "                                   MIDs  \\\n",
       "count                           2007090   \n",
       "unique                          1948050   \n",
       "top     /m/07s6nbt,/m/03gq5hm,/m/03scnj   \n",
       "freq                                994   \n",
       "\n",
       "                                         confidence_score  \n",
       "count                                             2007090  \n",
       "unique                                            2003297  \n",
       "top     0.9736676812171936,0.9484156370162964,0.787131...  \n",
       "freq                                                  271  "
      ]
     },
     "execution_count": 10,
     "metadata": {},
     "output_type": "execute_result"
    }
   ],
   "source": [
    "df.describe()"
   ]
  },
  {
   "cell_type": "code",
   "execution_count": 16,
   "metadata": {},
   "outputs": [],
   "source": [
    "sampled_df = df.sample(frac=0.005, random_state=42)"
   ]
  },
  {
   "cell_type": "code",
   "execution_count": 17,
   "metadata": {},
   "outputs": [
    {
     "data": {
      "text/html": [
       "<div>\n",
       "<style scoped>\n",
       "    .dataframe tbody tr th:only-of-type {\n",
       "        vertical-align: middle;\n",
       "    }\n",
       "\n",
       "    .dataframe tbody tr th {\n",
       "        vertical-align: top;\n",
       "    }\n",
       "\n",
       "    .dataframe thead th {\n",
       "        text-align: right;\n",
       "    }\n",
       "</style>\n",
       "<table border=\"1\" class=\"dataframe\">\n",
       "  <thead>\n",
       "    <tr style=\"text-align: right;\">\n",
       "      <th></th>\n",
       "      <th>caption</th>\n",
       "      <th>url</th>\n",
       "      <th>labels</th>\n",
       "      <th>MIDs</th>\n",
       "      <th>confidence_score</th>\n",
       "    </tr>\n",
       "  </thead>\n",
       "  <tbody>\n",
       "    <tr>\n",
       "      <th>count</th>\n",
       "      <td>10038</td>\n",
       "      <td>10038</td>\n",
       "      <td>10037</td>\n",
       "      <td>10037</td>\n",
       "      <td>10037</td>\n",
       "    </tr>\n",
       "    <tr>\n",
       "      <th>unique</th>\n",
       "      <td>9664</td>\n",
       "      <td>10038</td>\n",
       "      <td>10012</td>\n",
       "      <td>10012</td>\n",
       "      <td>10037</td>\n",
       "    </tr>\n",
       "    <tr>\n",
       "      <th>top</th>\n",
       "      <td>image may contain : person , on stage and play...</td>\n",
       "      <td>http://slideplayer.com/6856679/23/images/2/The...</td>\n",
       "      <td>text,font,line</td>\n",
       "      <td>/m/07s6nbt,/m/03gq5hm,/m/03scnj</td>\n",
       "      <td>0.897243082523346,0.8220894932746887,0.8193526...</td>\n",
       "    </tr>\n",
       "    <tr>\n",
       "      <th>freq</th>\n",
       "      <td>34</td>\n",
       "      <td>1</td>\n",
       "      <td>8</td>\n",
       "      <td>8</td>\n",
       "      <td>1</td>\n",
       "    </tr>\n",
       "  </tbody>\n",
       "</table>\n",
       "</div>"
      ],
      "text/plain": [
       "                                                  caption  \\\n",
       "count                                               10038   \n",
       "unique                                               9664   \n",
       "top     image may contain : person , on stage and play...   \n",
       "freq                                                   34   \n",
       "\n",
       "                                                      url          labels  \\\n",
       "count                                               10038           10037   \n",
       "unique                                              10038           10012   \n",
       "top     http://slideplayer.com/6856679/23/images/2/The...  text,font,line   \n",
       "freq                                                    1               8   \n",
       "\n",
       "                                   MIDs  \\\n",
       "count                             10037   \n",
       "unique                            10012   \n",
       "top     /m/07s6nbt,/m/03gq5hm,/m/03scnj   \n",
       "freq                                  8   \n",
       "\n",
       "                                         confidence_score  \n",
       "count                                               10037  \n",
       "unique                                              10037  \n",
       "top     0.897243082523346,0.8220894932746887,0.8193526...  \n",
       "freq                                                    1  "
      ]
     },
     "execution_count": 17,
     "metadata": {},
     "output_type": "execute_result"
    }
   ],
   "source": [
    "sampled_df.describe()"
   ]
  },
  {
   "cell_type": "code",
   "execution_count": 19,
   "metadata": {},
   "outputs": [],
   "source": [
    "sampled_df.to_csv('../data/captions.tsv', sep='\\t', index=False)"
   ]
  },
  {
   "cell_type": "code",
   "execution_count": null,
   "metadata": {},
   "outputs": [],
   "source": []
  }
 ],
 "metadata": {
  "interpreter": {
   "hash": "daa06ee645250b8a2dc707d71e9800f0b1cc0a90be827c1c2df03a597f042bff"
  },
  "kernelspec": {
   "display_name": "Python 3.8.12 64-bit ('typing-assistant': conda)",
   "language": "python",
   "name": "python3"
  },
  "language_info": {
   "codemirror_mode": {
    "name": "ipython",
    "version": 3
   },
   "file_extension": ".py",
   "mimetype": "text/x-python",
   "name": "python",
   "nbconvert_exporter": "python",
   "pygments_lexer": "ipython3",
   "version": "3.8.12"
  },
  "orig_nbformat": 4
 },
 "nbformat": 4,
 "nbformat_minor": 2
}
