{
 "cells": [
  {
   "cell_type": "code",
   "execution_count": 3,
   "metadata": {},
   "outputs": [],
   "source": [
    "import re\n",
    "from collections import Counter\n",
    "\n",
    "import pandas as pd"
   ]
  },
  {
   "cell_type": "code",
   "execution_count": 4,
   "metadata": {},
   "outputs": [],
   "source": [
    "df = pd.read_csv('../../../Downloads/Image_Labels_Subset_Train_GCC-Labels-training.tsv', sep='\\t', names=['caption', 'url', 'labels', 'MIDs', 'confidence_score'])\n",
    "df['id'] = range(len(df))\n",
    "df = df.set_index('id')"
   ]
  },
  {
   "cell_type": "code",
   "execution_count": 5,
   "metadata": {},
   "outputs": [
    {
     "data": {
      "text/html": [
       "<div>\n",
       "<style scoped>\n",
       "    .dataframe tbody tr th:only-of-type {\n",
       "        vertical-align: middle;\n",
       "    }\n",
       "\n",
       "    .dataframe tbody tr th {\n",
       "        vertical-align: top;\n",
       "    }\n",
       "\n",
       "    .dataframe thead th {\n",
       "        text-align: right;\n",
       "    }\n",
       "</style>\n",
       "<table border=\"1\" class=\"dataframe\">\n",
       "  <thead>\n",
       "    <tr style=\"text-align: right;\">\n",
       "      <th></th>\n",
       "      <th>caption</th>\n",
       "      <th>url</th>\n",
       "      <th>labels</th>\n",
       "      <th>MIDs</th>\n",
       "      <th>confidence_score</th>\n",
       "    </tr>\n",
       "    <tr>\n",
       "      <th>id</th>\n",
       "      <th></th>\n",
       "      <th></th>\n",
       "      <th></th>\n",
       "      <th></th>\n",
       "      <th></th>\n",
       "    </tr>\n",
       "  </thead>\n",
       "  <tbody>\n",
       "    <tr>\n",
       "      <th>0</th>\n",
       "      <td>christmas tree on a black background .</td>\n",
       "      <td>https://thumb1.shutterstock.com/display_pic_wi...</td>\n",
       "      <td>christmas tree,christmas decoration,font,text,...</td>\n",
       "      <td>/m/025nd,/m/05fc9mj,/m/03gq5hm,/m/07s6nbt,/m/0...</td>\n",
       "      <td>0.9818305373191833,0.952756941318512,0.9227379...</td>\n",
       "    </tr>\n",
       "    <tr>\n",
       "      <th>1</th>\n",
       "      <td>item : drawing of a figure surrounded by person</td>\n",
       "      <td>https://i.pinimg.com/736x/f9/fd/48/f9fd4878090...</td>\n",
       "      <td>drawing,modern art,line,visual arts,art,sketch...</td>\n",
       "      <td>/m/02csf,/m/015r61,/m/03scnj,/m/0p9xx,/m/0jjw,...</td>\n",
       "      <td>0.8945257067680359,0.8489813804626465,0.828646...</td>\n",
       "    </tr>\n",
       "    <tr>\n",
       "      <th>2</th>\n",
       "      <td>the sidewalk near the corner of streets has on...</td>\n",
       "      <td>http://s3-us-west-2.amazonaws.com/ktoo/2017/08...</td>\n",
       "      <td>mode of transport,transport,vehicle,street,nei...</td>\n",
       "      <td>/m/079bkr,/m/07bsy,/m/07yv9,/m/01c8br,/m/0180x...</td>\n",
       "      <td>0.8588771224021912,0.8513096570968628,0.783954...</td>\n",
       "    </tr>\n",
       "    <tr>\n",
       "      <th>3</th>\n",
       "      <td>actor attends the season premiere</td>\n",
       "      <td>https://media.gettyimages.com/photos/aidan-gil...</td>\n",
       "      <td>musician,premiere,event,singer,suit,performance</td>\n",
       "      <td>/m/09jwl,/m/03n3f3,/m/081pkj,/m/09l65,/m/01xyh...</td>\n",
       "      <td>0.8445718288421631,0.8338453769683838,0.670432...</td>\n",
       "    </tr>\n",
       "    <tr>\n",
       "      <th>4</th>\n",
       "      <td>another possible invitation -- love the font ,...</td>\n",
       "      <td>https://i.pinimg.com/736x/c1/c3/3a/c1c33aed458...</td>\n",
       "      <td>text,font,material property,label</td>\n",
       "      <td>/m/07s6nbt,/m/03gq5hm,/m/0457gc6,/m/05c0n6k</td>\n",
       "      <td>0.9419509172439575,0.8490258455276489,0.699199...</td>\n",
       "    </tr>\n",
       "  </tbody>\n",
       "</table>\n",
       "</div>"
      ],
      "text/plain": [
       "                                              caption  \\\n",
       "id                                                      \n",
       "0              christmas tree on a black background .   \n",
       "1     item : drawing of a figure surrounded by person   \n",
       "2   the sidewalk near the corner of streets has on...   \n",
       "3                   actor attends the season premiere   \n",
       "4   another possible invitation -- love the font ,...   \n",
       "\n",
       "                                                  url  \\\n",
       "id                                                      \n",
       "0   https://thumb1.shutterstock.com/display_pic_wi...   \n",
       "1   https://i.pinimg.com/736x/f9/fd/48/f9fd4878090...   \n",
       "2   http://s3-us-west-2.amazonaws.com/ktoo/2017/08...   \n",
       "3   https://media.gettyimages.com/photos/aidan-gil...   \n",
       "4   https://i.pinimg.com/736x/c1/c3/3a/c1c33aed458...   \n",
       "\n",
       "                                               labels  \\\n",
       "id                                                      \n",
       "0   christmas tree,christmas decoration,font,text,...   \n",
       "1   drawing,modern art,line,visual arts,art,sketch...   \n",
       "2   mode of transport,transport,vehicle,street,nei...   \n",
       "3     musician,premiere,event,singer,suit,performance   \n",
       "4                   text,font,material property,label   \n",
       "\n",
       "                                                 MIDs  \\\n",
       "id                                                      \n",
       "0   /m/025nd,/m/05fc9mj,/m/03gq5hm,/m/07s6nbt,/m/0...   \n",
       "1   /m/02csf,/m/015r61,/m/03scnj,/m/0p9xx,/m/0jjw,...   \n",
       "2   /m/079bkr,/m/07bsy,/m/07yv9,/m/01c8br,/m/0180x...   \n",
       "3   /m/09jwl,/m/03n3f3,/m/081pkj,/m/09l65,/m/01xyh...   \n",
       "4         /m/07s6nbt,/m/03gq5hm,/m/0457gc6,/m/05c0n6k   \n",
       "\n",
       "                                     confidence_score  \n",
       "id                                                     \n",
       "0   0.9818305373191833,0.952756941318512,0.9227379...  \n",
       "1   0.8945257067680359,0.8489813804626465,0.828646...  \n",
       "2   0.8588771224021912,0.8513096570968628,0.783954...  \n",
       "3   0.8445718288421631,0.8338453769683838,0.670432...  \n",
       "4   0.9419509172439575,0.8490258455276489,0.699199...  "
      ]
     },
     "execution_count": 5,
     "metadata": {},
     "output_type": "execute_result"
    }
   ],
   "source": [
    "df.head()"
   ]
  },
  {
   "cell_type": "code",
   "execution_count": 18,
   "metadata": {},
   "outputs": [
    {
     "data": {
      "text/plain": [
       "['christmas tree',\n",
       " 'christmas decoration',\n",
       " 'font',\n",
       " 'text',\n",
       " 'graphic design',\n",
       " 'illustration',\n",
       " 'interior design',\n",
       " 'tree',\n",
       " 'christmas eve',\n",
       " 'ornament',\n",
       " 'fir',\n",
       " 'plant',\n",
       " 'pine',\n",
       " 'pine family',\n",
       " 'graphics']"
      ]
     },
     "execution_count": 18,
     "metadata": {},
     "output_type": "execute_result"
    }
   ],
   "source": [
    "df['labels'].tolist()[0].split(',')"
   ]
  },
  {
   "cell_type": "code",
   "execution_count": 42,
   "metadata": {},
   "outputs": [],
   "source": [
    "import numpy as np"
   ]
  },
  {
   "cell_type": "code",
   "execution_count": 46,
   "metadata": {},
   "outputs": [
    {
     "data": {
      "text/plain": [
       "0"
      ]
     },
     "execution_count": 46,
     "metadata": {},
     "output_type": "execute_result"
    }
   ],
   "source": [
    "df[df['labels'] == np.nan]['labels'].count()"
   ]
  },
  {
   "cell_type": "code",
   "execution_count": 52,
   "metadata": {},
   "outputs": [
    {
     "name": "stdout",
     "output_type": "stream",
     "text": [
      "438\n"
     ]
    }
   ],
   "source": [
    "c = 0\n",
    "final_labels = set()\n",
    "for i, labels in enumerate(df['labels'].tolist()):\n",
    "    try:\n",
    "        final_labels |= set(labels.split(','))\n",
    "    except AttributeError:\n",
    "        # print(i, labels)\n",
    "        c += 1\n",
    "print(c)"
   ]
  },
  {
   "cell_type": "code",
   "execution_count": 54,
   "metadata": {},
   "outputs": [
    {
     "data": {
      "text/plain": [
       "14343"
      ]
     },
     "execution_count": 54,
     "metadata": {},
     "output_type": "execute_result"
    }
   ],
   "source": [
    "len(final_labels)"
   ]
  },
  {
   "cell_type": "code",
   "execution_count": 5,
   "metadata": {},
   "outputs": [],
   "source": [
    "def tokenize_join(word):\n",
    "    return ' '.join(re.findall(r'\\w+', word)) + '\\n'"
   ]
  },
  {
   "cell_type": "code",
   "execution_count": 6,
   "metadata": {},
   "outputs": [
    {
     "data": {
      "text/plain": [
       "2007528"
      ]
     },
     "execution_count": 6,
     "metadata": {},
     "output_type": "execute_result"
    }
   ],
   "source": [
    "corpus_df = df.reset_index(drop=True)\n",
    "corpus_df['tokenized_corpus'] = corpus_df['caption'].apply(tokenize_join)\n",
    "corpus = corpus_df['tokenized_corpus'].tolist()\n",
    "len(corpus)"
   ]
  },
  {
   "cell_type": "code",
   "execution_count": 7,
   "metadata": {},
   "outputs": [],
   "source": [
    "words = [w for sentence in corpus for w in sentence.split()]"
   ]
  },
  {
   "cell_type": "code",
   "execution_count": 19,
   "metadata": {},
   "outputs": [
    {
     "data": {
      "text/plain": [
       "(19131773, 41175, 0.21521789956424844)"
      ]
     },
     "execution_count": 19,
     "metadata": {},
     "output_type": "execute_result"
    }
   ],
   "source": [
    "len(words), len(set(words)), len(set(words)) / len(words) * 100"
   ]
  },
  {
   "cell_type": "code",
   "execution_count": 8,
   "metadata": {},
   "outputs": [],
   "source": [
    "count_words = Counter(words)"
   ]
  },
  {
   "cell_type": "code",
   "execution_count": 10,
   "metadata": {},
   "outputs": [],
   "source": [
    "long_words = [w for w in count_words if count_words[w] >= 5]"
   ]
  },
  {
   "cell_type": "code",
   "execution_count": 12,
   "metadata": {},
   "outputs": [
    {
     "data": {
      "text/plain": [
       "22186"
      ]
     },
     "execution_count": 12,
     "metadata": {},
     "output_type": "execute_result"
    }
   ],
   "source": [
    "len(long_words)"
   ]
  },
  {
   "cell_type": "code",
   "execution_count": 34,
   "metadata": {},
   "outputs": [],
   "source": [
    "with open('../data/corpus.txt', 'a', encoding='utf-8') as fp:\n",
    "    for sentence in corpus:\n",
    "        fp.write(sentence)"
   ]
  },
  {
   "cell_type": "code",
   "execution_count": 5,
   "metadata": {},
   "outputs": [],
   "source": [
    "sampled_df = df.sample(frac=0.1, random_state=42)\n",
    "sampled_df.to_csv('../data/captions_0.1.tsv', sep='\\t')"
   ]
  }
 ],
 "metadata": {
  "interpreter": {
   "hash": "daa06ee645250b8a2dc707d71e9800f0b1cc0a90be827c1c2df03a597f042bff"
  },
  "kernelspec": {
   "display_name": "Python 3.8.12 64-bit ('typing-assistant': conda)",
   "language": "python",
   "name": "python3"
  },
  "language_info": {
   "codemirror_mode": {
    "name": "ipython",
    "version": 3
   },
   "file_extension": ".py",
   "mimetype": "text/x-python",
   "name": "python",
   "nbconvert_exporter": "python",
   "pygments_lexer": "ipython3",
   "version": "3.8.11"
  },
  "orig_nbformat": 4
 },
 "nbformat": 4,
 "nbformat_minor": 2
}
