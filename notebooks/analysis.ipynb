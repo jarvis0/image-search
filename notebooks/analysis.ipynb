{
 "cells": [
  {
   "cell_type": "code",
   "execution_count": 1,
   "metadata": {},
   "outputs": [],
   "source": [
    "import pandas as pd"
   ]
  },
  {
   "cell_type": "code",
   "execution_count": 2,
   "metadata": {},
   "outputs": [],
   "source": [
    "df = pd.read_csv('../data/captions.tsv', sep='\\t', index_col='id')"
   ]
  },
  {
   "cell_type": "code",
   "execution_count": 3,
   "metadata": {},
   "outputs": [
    {
     "data": {
      "text/html": [
       "<div>\n",
       "<style scoped>\n",
       "    .dataframe tbody tr th:only-of-type {\n",
       "        vertical-align: middle;\n",
       "    }\n",
       "\n",
       "    .dataframe tbody tr th {\n",
       "        vertical-align: top;\n",
       "    }\n",
       "\n",
       "    .dataframe thead th {\n",
       "        text-align: right;\n",
       "    }\n",
       "</style>\n",
       "<table border=\"1\" class=\"dataframe\">\n",
       "  <thead>\n",
       "    <tr style=\"text-align: right;\">\n",
       "      <th></th>\n",
       "      <th>caption</th>\n",
       "      <th>url</th>\n",
       "      <th>labels</th>\n",
       "      <th>MIDs</th>\n",
       "      <th>confidence_score</th>\n",
       "    </tr>\n",
       "    <tr>\n",
       "      <th>id</th>\n",
       "      <th></th>\n",
       "      <th></th>\n",
       "      <th></th>\n",
       "      <th></th>\n",
       "      <th></th>\n",
       "    </tr>\n",
       "  </thead>\n",
       "  <tbody>\n",
       "    <tr>\n",
       "      <th>1996298</th>\n",
       "      <td>the story of the world begins with geography</td>\n",
       "      <td>http://slideplayer.com/6856679/23/images/2/The...</td>\n",
       "      <td>text,sky,adaptation,font,real estate,tourism,t...</td>\n",
       "      <td>/m/07s6nbt,/m/01bqvp,/m/03r_vp,/m/03gq5hm,/m/0...</td>\n",
       "      <td>0.897243082523346,0.8220894932746887,0.8193526...</td>\n",
       "    </tr>\n",
       "    <tr>\n",
       "      <th>178713</th>\n",
       "      <td>how to use a curling wand on long hair photo</td>\n",
       "      <td>http://rossanoistanbul.com/wp-content/uploads/...</td>\n",
       "      <td>hair,hair iron,skin,lip,hairstyle,beauty,eyebr...</td>\n",
       "      <td>/m/03q69,/m/03nwsj,/m/06z04,/m/06pj2k,/m/0ds4x...</td>\n",
       "      <td>0.9875585436820984,0.9806931018829346,0.905954...</td>\n",
       "    </tr>\n",
       "    <tr>\n",
       "      <th>619108</th>\n",
       "      <td>image may contain : person , smiling , playing...</td>\n",
       "      <td>https://lookaside.fbsbx.com/lookaside/crawler/...</td>\n",
       "      <td>entertainment,musician,music,music artist,keyb...</td>\n",
       "      <td>/m/02jjt,/m/09jwl,/m/04rlf,/m/0fq0t_c,/m/0fnpj...</td>\n",
       "      <td>0.9511398673057556,0.937084972858429,0.9367368...</td>\n",
       "    </tr>\n",
       "    <tr>\n",
       "      <th>157244</th>\n",
       "      <td>basketball player attends the press during the...</td>\n",
       "      <td>https://media.gettyimages.com/photos/san-anton...</td>\n",
       "      <td>coach,player,manager,news conference,gesture</td>\n",
       "      <td>/m/02y5kn,/m/02vzx9,/m/02hyt6,/m/01s8fx,/m/0244x1</td>\n",
       "      <td>0.7166047692298889,0.6246285438537598,0.579674...</td>\n",
       "    </tr>\n",
       "    <tr>\n",
       "      <th>1206036</th>\n",
       "      <td>tall green right up to the sky .</td>\n",
       "      <td>http://78.media.tumblr.com/85273c79ecc24a86ff6...</td>\n",
       "      <td>metropolitan area,blue,architecture,commercial...</td>\n",
       "      <td>/m/0j_s4,/m/01g5v,/m/03nfmq,/m/05hg54,/m/0cgh4...</td>\n",
       "      <td>0.9717122316360474,0.9666987061500549,0.962948...</td>\n",
       "    </tr>\n",
       "  </tbody>\n",
       "</table>\n",
       "</div>"
      ],
      "text/plain": [
       "                                                   caption  \\\n",
       "id                                                           \n",
       "1996298       the story of the world begins with geography   \n",
       "178713        how to use a curling wand on long hair photo   \n",
       "619108   image may contain : person , smiling , playing...   \n",
       "157244   basketball player attends the press during the...   \n",
       "1206036                   tall green right up to the sky .   \n",
       "\n",
       "                                                       url  \\\n",
       "id                                                           \n",
       "1996298  http://slideplayer.com/6856679/23/images/2/The...   \n",
       "178713   http://rossanoistanbul.com/wp-content/uploads/...   \n",
       "619108   https://lookaside.fbsbx.com/lookaside/crawler/...   \n",
       "157244   https://media.gettyimages.com/photos/san-anton...   \n",
       "1206036  http://78.media.tumblr.com/85273c79ecc24a86ff6...   \n",
       "\n",
       "                                                    labels  \\\n",
       "id                                                           \n",
       "1996298  text,sky,adaptation,font,real estate,tourism,t...   \n",
       "178713   hair,hair iron,skin,lip,hairstyle,beauty,eyebr...   \n",
       "619108   entertainment,musician,music,music artist,keyb...   \n",
       "157244        coach,player,manager,news conference,gesture   \n",
       "1206036  metropolitan area,blue,architecture,commercial...   \n",
       "\n",
       "                                                      MIDs  \\\n",
       "id                                                           \n",
       "1996298  /m/07s6nbt,/m/01bqvp,/m/03r_vp,/m/03gq5hm,/m/0...   \n",
       "178713   /m/03q69,/m/03nwsj,/m/06z04,/m/06pj2k,/m/0ds4x...   \n",
       "619108   /m/02jjt,/m/09jwl,/m/04rlf,/m/0fq0t_c,/m/0fnpj...   \n",
       "157244   /m/02y5kn,/m/02vzx9,/m/02hyt6,/m/01s8fx,/m/0244x1   \n",
       "1206036  /m/0j_s4,/m/01g5v,/m/03nfmq,/m/05hg54,/m/0cgh4...   \n",
       "\n",
       "                                          confidence_score  \n",
       "id                                                          \n",
       "1996298  0.897243082523346,0.8220894932746887,0.8193526...  \n",
       "178713   0.9875585436820984,0.9806931018829346,0.905954...  \n",
       "619108   0.9511398673057556,0.937084972858429,0.9367368...  \n",
       "157244   0.7166047692298889,0.6246285438537598,0.579674...  \n",
       "1206036  0.9717122316360474,0.9666987061500549,0.962948...  "
      ]
     },
     "execution_count": 3,
     "metadata": {},
     "output_type": "execute_result"
    }
   ],
   "source": [
    "df.head()"
   ]
  },
  {
   "cell_type": "code",
   "execution_count": 4,
   "metadata": {},
   "outputs": [
    {
     "data": {
      "text/plain": [
       "8531"
      ]
     },
     "execution_count": 4,
     "metadata": {},
     "output_type": "execute_result"
    }
   ],
   "source": [
    "captions = df['caption'].tolist()\n",
    "word_sentences = [caption.split() for caption in captions]\n",
    "words = [word for sentence in word_sentences for word in sentence]\n",
    "unique_words = sorted(list(set(words)))\n",
    "len(unique_words)"
   ]
  },
  {
   "cell_type": "code",
   "execution_count": 5,
   "metadata": {},
   "outputs": [
    {
     "data": {
      "text/plain": [
       "'football player controls the ball during the international friendly match .'"
      ]
     },
     "execution_count": 5,
     "metadata": {},
     "output_type": "execute_result"
    }
   ],
   "source": [
    "captions[-2]"
   ]
  },
  {
   "cell_type": "code",
   "execution_count": 12,
   "metadata": {},
   "outputs": [
    {
     "data": {
      "text/plain": [
       "['!',\n",
       " '#',\n",
       " '$',\n",
       " '$1',\n",
       " '$1,360,000',\n",
       " '$10',\n",
       " '$100.00',\n",
       " '$1000',\n",
       " '$15,000',\n",
       " '$17',\n",
       " '$2.00',\n",
       " '$2.29',\n",
       " '$20,000',\n",
       " '$4.3',\n",
       " '$495',\n",
       " '$5',\n",
       " '$5.4',\n",
       " '$7',\n",
       " '$70',\n",
       " '$70,000']"
      ]
     },
     "execution_count": 12,
     "metadata": {},
     "output_type": "execute_result"
    }
   ],
   "source": [
    "unique_words[: 20]"
   ]
  },
  {
   "cell_type": "code",
   "execution_count": 13,
   "metadata": {},
   "outputs": [
    {
     "data": {
      "text/plain": [
       "['youths',\n",
       " 'ysl',\n",
       " 'z',\n",
       " 'zen',\n",
       " 'zip',\n",
       " 'zipper',\n",
       " 'zippo',\n",
       " 'zodiac',\n",
       " 'zombie',\n",
       " 'zombies',\n",
       " 'zone',\n",
       " 'zoo',\n",
       " 'zooming',\n",
       " '~',\n",
       " '£',\n",
       " '®',\n",
       " '°',\n",
       " '€',\n",
       " '♥',\n",
       " '\\uf0a7']"
      ]
     },
     "execution_count": 13,
     "metadata": {},
     "output_type": "execute_result"
    }
   ],
   "source": [
    "unique_words[-20:]"
   ]
  },
  {
   "cell_type": "code",
   "execution_count": 7,
   "metadata": {},
   "outputs": [],
   "source": [
    "from difflib import SequenceMatcher"
   ]
  },
  {
   "cell_type": "code",
   "execution_count": 36,
   "metadata": {},
   "outputs": [],
   "source": [
    "matcher = SequenceMatcher(isjunk=None, autojunk=False)\n",
    "matcher.set_seq2(unique_words)"
   ]
  },
  {
   "cell_type": "code",
   "execution_count": 37,
   "metadata": {},
   "outputs": [],
   "source": [
    "matcher.set_seq1(['football'])"
   ]
  },
  {
   "cell_type": "code",
   "execution_count": 39,
   "metadata": {},
   "outputs": [
    {
     "name": "stdout",
     "output_type": "stream",
     "text": [
      "1.31 µs ± 1.46 ns per loop (mean ± std. dev. of 7 runs, 1000000 loops each)\n"
     ]
    }
   ],
   "source": [
    "%%timeit\n",
    "matcher.find_longest_match(0, 1, 0, len(unique_words))"
   ]
  },
  {
   "cell_type": "code",
   "execution_count": 28,
   "metadata": {},
   "outputs": [
    {
     "data": {
      "text/plain": [
       "'football'"
      ]
     },
     "execution_count": 28,
     "metadata": {},
     "output_type": "execute_result"
    }
   ],
   "source": [
    "unique_words[3141]"
   ]
  },
  {
   "cell_type": "code",
   "execution_count": 8,
   "metadata": {},
   "outputs": [],
   "source": [
    "matcher = SequenceMatcher(isjunk=None, autojunk=False)"
   ]
  },
  {
   "cell_type": "code",
   "execution_count": 11,
   "metadata": {},
   "outputs": [
    {
     "name": "stdout",
     "output_type": "stream",
     "text": [
      "85 ms ± 519 µs per loop (mean ± std. dev. of 7 runs, 10 loops each)\n"
     ]
    }
   ],
   "source": [
    "%%timeit\n",
    "for unique_word in unique_words:\n",
    "    matcher.set_seq1(unique_word)\n",
    "    matcher.set_seq2('football')\n",
    "    matcher.ratio()"
   ]
  },
  {
   "cell_type": "code",
   "execution_count": null,
   "metadata": {},
   "outputs": [],
   "source": []
  }
 ],
 "metadata": {
  "interpreter": {
   "hash": "daa06ee645250b8a2dc707d71e9800f0b1cc0a90be827c1c2df03a597f042bff"
  },
  "kernelspec": {
   "display_name": "Python 3.8.12 64-bit ('typing-assistant': conda)",
   "language": "python",
   "name": "python3"
  },
  "language_info": {
   "codemirror_mode": {
    "name": "ipython",
    "version": 3
   },
   "file_extension": ".py",
   "mimetype": "text/x-python",
   "name": "python",
   "nbconvert_exporter": "python",
   "pygments_lexer": "ipython3",
   "version": "3.8.12"
  },
  "orig_nbformat": 4
 },
 "nbformat": 4,
 "nbformat_minor": 2
}
