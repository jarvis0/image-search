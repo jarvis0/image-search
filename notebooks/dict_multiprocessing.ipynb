{
 "cells": [
  {
   "cell_type": "code",
   "execution_count": null,
   "metadata": {},
   "outputs": [],
   "source": [
    "import time\n",
    "from functools import partial\n",
    "import multiprocessing as mp\n",
    "mp.set_start_method('fork')"
   ]
  },
  {
   "cell_type": "code",
   "execution_count": 5,
   "metadata": {},
   "outputs": [],
   "source": [
    "def f(lock, params):\n",
    "    k, v = params\n",
    "    time.sleep(0.01)\n",
    "    with lock:\n",
    "        d[k] = d.get(k, []) + v"
   ]
  },
  {
   "cell_type": "code",
   "execution_count": 6,
   "metadata": {},
   "outputs": [],
   "source": [
    "manager = mp.Manager()\n",
    "d = manager.dict()\n",
    "\n",
    "p = mp.Pool(processes=2)\n",
    "args = [('a', [1])] * 10000\n",
    "partial_f = partial(f, manager.Lock())\n",
    "results = p.map(partial_f, args)"
   ]
  },
  {
   "cell_type": "code",
   "execution_count": 7,
   "metadata": {},
   "outputs": [
    {
     "data": {
      "text/plain": [
       "10000"
      ]
     },
     "execution_count": 7,
     "metadata": {},
     "output_type": "execute_result"
    }
   ],
   "source": [
    "len(d.values()[0])"
   ]
  },
  {
   "cell_type": "code",
   "execution_count": null,
   "metadata": {},
   "outputs": [],
   "source": []
  }
 ],
 "metadata": {
  "interpreter": {
   "hash": "daa06ee645250b8a2dc707d71e9800f0b1cc0a90be827c1c2df03a597f042bff"
  },
  "kernelspec": {
   "display_name": "Python 3.8.12 64-bit ('typing-assistant': conda)",
   "language": "python",
   "name": "python3"
  },
  "language_info": {
   "codemirror_mode": {
    "name": "ipython",
    "version": 3
   },
   "file_extension": ".py",
   "mimetype": "text/x-python",
   "name": "python",
   "nbconvert_exporter": "python",
   "pygments_lexer": "ipython3",
   "version": "3.8.11"
  },
  "orig_nbformat": 4
 },
 "nbformat": 4,
 "nbformat_minor": 2
}
