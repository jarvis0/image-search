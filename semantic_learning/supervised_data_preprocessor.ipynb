{
 "cells": [
  {
   "cell_type": "code",
   "execution_count": 1,
   "metadata": {},
   "outputs": [],
   "source": [
    "import re\n",
    "\n",
    "import pandas as pd"
   ]
  },
  {
   "cell_type": "code",
   "execution_count": 2,
   "metadata": {},
   "outputs": [
    {
     "data": {
      "text/html": [
       "<div>\n",
       "<style scoped>\n",
       "    .dataframe tbody tr th:only-of-type {\n",
       "        vertical-align: middle;\n",
       "    }\n",
       "\n",
       "    .dataframe tbody tr th {\n",
       "        vertical-align: top;\n",
       "    }\n",
       "\n",
       "    .dataframe thead th {\n",
       "        text-align: right;\n",
       "    }\n",
       "</style>\n",
       "<table border=\"1\" class=\"dataframe\">\n",
       "  <thead>\n",
       "    <tr style=\"text-align: right;\">\n",
       "      <th></th>\n",
       "      <th>caption</th>\n",
       "      <th>labels</th>\n",
       "    </tr>\n",
       "  </thead>\n",
       "  <tbody>\n",
       "    <tr>\n",
       "      <th>0</th>\n",
       "      <td>christmas tree on a black background .</td>\n",
       "      <td>christmas tree,christmas decoration,font,text,...</td>\n",
       "    </tr>\n",
       "    <tr>\n",
       "      <th>1</th>\n",
       "      <td>item : drawing of a figure surrounded by person</td>\n",
       "      <td>drawing,modern art,line,visual arts,art,sketch...</td>\n",
       "    </tr>\n",
       "    <tr>\n",
       "      <th>2</th>\n",
       "      <td>the sidewalk near the corner of streets has on...</td>\n",
       "      <td>mode of transport,transport,vehicle,street,nei...</td>\n",
       "    </tr>\n",
       "    <tr>\n",
       "      <th>3</th>\n",
       "      <td>actor attends the season premiere</td>\n",
       "      <td>musician,premiere,event,singer,suit,performance</td>\n",
       "    </tr>\n",
       "    <tr>\n",
       "      <th>4</th>\n",
       "      <td>another possible invitation -- love the font ,...</td>\n",
       "      <td>text,font,material property,label</td>\n",
       "    </tr>\n",
       "  </tbody>\n",
       "</table>\n",
       "</div>"
      ],
      "text/plain": [
       "                                             caption  \\\n",
       "0             christmas tree on a black background .   \n",
       "1    item : drawing of a figure surrounded by person   \n",
       "2  the sidewalk near the corner of streets has on...   \n",
       "3                  actor attends the season premiere   \n",
       "4  another possible invitation -- love the font ,...   \n",
       "\n",
       "                                              labels  \n",
       "0  christmas tree,christmas decoration,font,text,...  \n",
       "1  drawing,modern art,line,visual arts,art,sketch...  \n",
       "2  mode of transport,transport,vehicle,street,nei...  \n",
       "3    musician,premiere,event,singer,suit,performance  \n",
       "4                  text,font,material property,label  "
      ]
     },
     "execution_count": 2,
     "metadata": {},
     "output_type": "execute_result"
    }
   ],
   "source": [
    "df = pd.read_csv('../../../Downloads/Image_Labels_Subset_Train_GCC-Labels-training.tsv', sep='\\t', names=['caption', 'url', 'labels', 'MIDs', 'confidence_score'])[['caption', 'labels']]\n",
    "df.head()"
   ]
  },
  {
   "cell_type": "code",
   "execution_count": 7,
   "metadata": {},
   "outputs": [],
   "source": [
    "max_labels = 1\n",
    "def tokenize_supervised(sample):\n",
    "    labels = ' '.join(['__label__' + '-'.join(label.split(' ')) for label in sample['labels'].split(',')[: max_labels]]) + ' '\n",
    "    caption = ' '.join(re.findall(r'[a-z]+', sample['caption']))\n",
    "    return labels + caption + '\\n'"
   ]
  },
  {
   "cell_type": "code",
   "execution_count": 8,
   "metadata": {},
   "outputs": [
    {
     "data": {
      "text/plain": [
       "(2007090, '__label__desert man praying with his horse in the desert\\n')"
      ]
     },
     "execution_count": 8,
     "metadata": {},
     "output_type": "execute_result"
    }
   ],
   "source": [
    "corpus_df = df.dropna().sample(frac=1, random_state=42)\n",
    "corpus_df['tokenized_corpus'] = corpus_df.apply(tokenize_supervised, axis=1)\n",
    "corpus = corpus_df['tokenized_corpus'].tolist()\n",
    "len(corpus), corpus[0]"
   ]
  },
  {
   "cell_type": "code",
   "execution_count": 9,
   "metadata": {},
   "outputs": [],
   "source": [
    "with open('../data/corpus_train.txt', 'w', encoding='utf-8') as fp:\n",
    "    for sentence in corpus[: int(len(corpus) * 0.7)]:\n",
    "        fp.write(sentence)"
   ]
  },
  {
   "cell_type": "code",
   "execution_count": 10,
   "metadata": {},
   "outputs": [],
   "source": [
    "with open('../data/corpus_valid.txt', 'w', encoding='utf-8') as fp:\n",
    "    for sentence in corpus[-int(len(corpus) * 0.3):]:\n",
    "        fp.write(sentence)"
   ]
  },
  {
   "cell_type": "code",
   "execution_count": 11,
   "metadata": {},
   "outputs": [],
   "source": [
    "with open('../data/supervised_corpus.txt', 'w', encoding='utf-8') as fp:\n",
    "    for sentence in corpus:\n",
    "        fp.write(sentence)"
   ]
  },
  {
   "cell_type": "code",
   "execution_count": null,
   "metadata": {},
   "outputs": [],
   "source": []
  }
 ],
 "metadata": {
  "interpreter": {
   "hash": "daa06ee645250b8a2dc707d71e9800f0b1cc0a90be827c1c2df03a597f042bff"
  },
  "kernelspec": {
   "display_name": "Python 3.8.12 64-bit ('typing-assistant': conda)",
   "language": "python",
   "name": "python3"
  },
  "language_info": {
   "codemirror_mode": {
    "name": "ipython",
    "version": 3
   },
   "file_extension": ".py",
   "mimetype": "text/x-python",
   "name": "python",
   "nbconvert_exporter": "python",
   "pygments_lexer": "ipython3",
   "version": "3.8.11"
  },
  "orig_nbformat": 4
 },
 "nbformat": 4,
 "nbformat_minor": 2
}
